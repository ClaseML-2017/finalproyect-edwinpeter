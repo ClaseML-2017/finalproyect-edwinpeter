{
 "cells": [
  {
   "cell_type": "code",
   "execution_count": 5,
   "metadata": {},
   "outputs": [],
   "source": [
    "# Edwin Peter\n",
    "# 177019\n",
    "\n",
    "# Data taken from :\n",
    "# https://www.kaggle.com/dalpozz/creditcardfraud/data\n",
    "# Data contains 30 attributes, 28 of which are anonymized, 2 of which are the first and last attributes, Time and Amount.\n",
    "# The aim of this dataset is to predict if a record is fraudulent or genuine, where class value 1 is fraud and 0 is not.\n",
    "# Data contains 284,807 records"
   ]
  },
  {
   "cell_type": "markdown",
   "metadata": {},
   "source": [
    "# Basic Imports"
   ]
  },
  {
   "cell_type": "code",
   "execution_count": 6,
   "metadata": {},
   "outputs": [],
   "source": [
    "import pandas as pd\n",
    "import numpy as np\n",
    "from random import random\n",
    "%matplotlib inline\n",
    "import matplotlib.pyplot as plt\n",
    "from sklearn import metrics\n",
    "from sklearn.metrics import accuracy_score\n",
    "from sklearn.cross_validation import train_test_split\n",
    "from sklearn import preprocessing"
   ]
  },
  {
   "cell_type": "markdown",
   "metadata": {},
   "source": [
    "# Summary Statistics"
   ]
  },
  {
   "cell_type": "code",
   "execution_count": 7,
   "metadata": {
    "scrolled": true
   },
   "outputs": [
    {
     "name": "stdout",
     "output_type": "stream",
     "text": [
      "Summary Statistics:\n",
      "                Time            V1            V2            V3            V4  \\\n",
      "count  284807.000000  2.848070e+05  2.848070e+05  2.848070e+05  2.848070e+05   \n",
      "mean    94813.859575  1.165980e-15  3.416908e-16 -1.373150e-15  2.086869e-15   \n",
      "std     47488.145955  1.958696e+00  1.651309e+00  1.516255e+00  1.415869e+00   \n",
      "min         0.000000 -5.640751e+01 -7.271573e+01 -4.832559e+01 -5.683171e+00   \n",
      "25%     54201.500000 -9.203734e-01 -5.985499e-01 -8.903648e-01 -8.486401e-01   \n",
      "50%     84692.000000  1.810880e-02  6.548556e-02  1.798463e-01 -1.984653e-02   \n",
      "75%    139320.500000  1.315642e+00  8.037239e-01  1.027196e+00  7.433413e-01   \n",
      "max    172792.000000  2.454930e+00  2.205773e+01  9.382558e+00  1.687534e+01   \n",
      "\n",
      "                 V5            V6            V7            V8            V9  \\\n",
      "count  2.848070e+05  2.848070e+05  2.848070e+05  2.848070e+05  2.848070e+05   \n",
      "mean   9.604066e-16  1.490107e-15 -5.556467e-16  1.177556e-16 -2.406455e-15   \n",
      "std    1.380247e+00  1.332271e+00  1.237094e+00  1.194353e+00  1.098632e+00   \n",
      "min   -1.137433e+02 -2.616051e+01 -4.355724e+01 -7.321672e+01 -1.343407e+01   \n",
      "25%   -6.915971e-01 -7.682956e-01 -5.540759e-01 -2.086297e-01 -6.430976e-01   \n",
      "50%   -5.433583e-02 -2.741871e-01  4.010308e-02  2.235804e-02 -5.142873e-02   \n",
      "75%    6.119264e-01  3.985649e-01  5.704361e-01  3.273459e-01  5.971390e-01   \n",
      "max    3.480167e+01  7.330163e+01  1.205895e+02  2.000721e+01  1.559499e+01   \n",
      "\n",
      "                V10           V11           V12           V13           V14  \\\n",
      "count  2.848070e+05  2.848070e+05  2.848070e+05  2.848070e+05  2.848070e+05   \n",
      "mean   2.239751e-15  1.673327e-15 -1.254995e-15  8.176030e-16  1.206296e-15   \n",
      "std    1.088850e+00  1.020713e+00  9.992014e-01  9.952742e-01  9.585956e-01   \n",
      "min   -2.458826e+01 -4.797473e+00 -1.868371e+01 -5.791881e+00 -1.921433e+01   \n",
      "25%   -5.354257e-01 -7.624942e-01 -4.055715e-01 -6.485393e-01 -4.255740e-01   \n",
      "50%   -9.291738e-02 -3.275735e-02  1.400326e-01 -1.356806e-02  5.060132e-02   \n",
      "75%    4.539234e-01  7.395934e-01  6.182380e-01  6.625050e-01  4.931498e-01   \n",
      "max    2.374514e+01  1.201891e+01  7.848392e+00  7.126883e+00  1.052677e+01   \n",
      "\n",
      "                V15           V16           V17           V18           V19  \\\n",
      "count  2.848070e+05  2.848070e+05  2.848070e+05  2.848070e+05  2.848070e+05   \n",
      "mean   4.913003e-15  1.437666e-15 -3.800113e-16  9.572133e-16  1.039817e-15   \n",
      "std    9.153160e-01  8.762529e-01  8.493371e-01  8.381762e-01  8.140405e-01   \n",
      "min   -4.498945e+00 -1.412985e+01 -2.516280e+01 -9.498746e+00 -7.213527e+00   \n",
      "25%   -5.828843e-01 -4.680368e-01 -4.837483e-01 -4.988498e-01 -4.562989e-01   \n",
      "50%    4.807155e-02  6.641332e-02 -6.567575e-02 -3.636312e-03  3.734823e-03   \n",
      "75%    6.488208e-01  5.232963e-01  3.996750e-01  5.008067e-01  4.589494e-01   \n",
      "max    8.877742e+00  1.731511e+01  9.253526e+00  5.041069e+00  5.591971e+00   \n",
      "\n",
      "                V20           V21           V22           V23           V24  \\\n",
      "count  2.848070e+05  2.848070e+05  2.848070e+05  2.848070e+05  2.848070e+05   \n",
      "mean   6.406703e-16  1.656562e-16 -3.444850e-16  2.578648e-16  4.471968e-15   \n",
      "std    7.709250e-01  7.345240e-01  7.257016e-01  6.244603e-01  6.056471e-01   \n",
      "min   -5.449772e+01 -3.483038e+01 -1.093314e+01 -4.480774e+01 -2.836627e+00   \n",
      "25%   -2.117214e-01 -2.283949e-01 -5.423504e-01 -1.618463e-01 -3.545861e-01   \n",
      "50%   -6.248109e-02 -2.945017e-02  6.781943e-03 -1.119293e-02  4.097606e-02   \n",
      "75%    1.330408e-01  1.863772e-01  5.285536e-01  1.476421e-01  4.395266e-01   \n",
      "max    3.942090e+01  2.720284e+01  1.050309e+01  2.252841e+01  4.584549e+00   \n",
      "\n",
      "                V25           V26           V27           V28         Amount  \\\n",
      "count  2.848070e+05  2.848070e+05  2.848070e+05  2.848070e+05  284807.000000   \n",
      "mean   5.340915e-16  1.687098e-15 -3.666453e-16 -1.220404e-16      88.349619   \n",
      "std    5.212781e-01  4.822270e-01  4.036325e-01  3.300833e-01     250.120109   \n",
      "min   -1.029540e+01 -2.604551e+00 -2.256568e+01 -1.543008e+01       0.000000   \n",
      "25%   -3.171451e-01 -3.269839e-01 -7.083953e-02 -5.295979e-02       5.600000   \n",
      "50%    1.659350e-02 -5.213911e-02  1.342146e-03  1.124383e-02      22.000000   \n",
      "75%    3.507156e-01  2.409522e-01  9.104512e-02  7.827995e-02      77.165000   \n",
      "max    7.519589e+00  3.517346e+00  3.161220e+01  3.384781e+01   25691.160000   \n",
      "\n",
      "               Class  \n",
      "count  284807.000000  \n",
      "mean        0.001727  \n",
      "std         0.041527  \n",
      "min         0.000000  \n",
      "25%         0.000000  \n",
      "50%         0.000000  \n",
      "75%         0.000000  \n",
      "max         1.000000  \n"
     ]
    }
   ],
   "source": [
    "df = pd.read_csv(\"creditcard.csv\")\n",
    "\n",
    "print \"Summary Statistics:\"\n",
    "print df.describe()"
   ]
  },
  {
   "cell_type": "code",
   "execution_count": 8,
   "metadata": {},
   "outputs": [],
   "source": [
    "pd.set_option('display.max_columns', None)\n",
    "summary_stats = df.describe()\n",
    "summary_stats.to_csv('summary_stats.csv')"
   ]
  },
  {
   "cell_type": "code",
   "execution_count": 9,
   "metadata": {},
   "outputs": [
    {
     "name": "stdout",
     "output_type": "stream",
     "text": [
      "[[  0.00000000e+00  -1.35980713e+00  -7.27811733e-02 ...,   1.33558377e-01\n",
      "   -2.10530535e-02   1.49620000e+02]\n",
      " [  0.00000000e+00   1.19185711e+00   2.66150712e-01 ...,  -8.98309914e-03\n",
      "    1.47241692e-02   2.69000000e+00]\n",
      " [  1.00000000e+00  -1.35835406e+00  -1.34016307e+00 ...,  -5.53527940e-02\n",
      "   -5.97518406e-02   3.78660000e+02]\n",
      " ..., \n",
      " [  1.72788000e+05   1.91956501e+00  -3.01253846e-01 ...,   4.45477214e-03\n",
      "   -2.65608286e-02   6.78800000e+01]\n",
      " [  1.72788000e+05  -2.40440050e-01   5.30482513e-01 ...,   1.08820735e-01\n",
      "    1.04532821e-01   1.00000000e+01]\n",
      " [  1.72792000e+05  -5.33412522e-01  -1.89733337e-01 ...,  -2.41530880e-03\n",
      "    1.36489143e-02   2.17000000e+02]]\n",
      "[ 0.  0.  0. ...,  0.  0.  0.]\n"
     ]
    }
   ],
   "source": [
    "X = np.asarray(df)[:,0:-1]\n",
    "y = np.asarray(df)[:,-1]\n",
    "\n",
    "print X\n",
    "print y"
   ]
  },
  {
   "cell_type": "code",
   "execution_count": 10,
   "metadata": {},
   "outputs": [
    {
     "name": "stdout",
     "output_type": "stream",
     "text": [
      "Variation in Target Class:\n",
      "Instances of class 0: 284315\n",
      "Instances of class 1: 492\n",
      "\n",
      "Percentage of class 0: 99.83%\n",
      "Percentage of class 1: 0.17%\n"
     ]
    },
    {
     "data": {
      "image/png": "[encoded data removed]",
      "text/plain": [
       "<matplotlib.figure.Figure at 0x10d17c090>"
      ]
     },
     "metadata": {},
     "output_type": "display_data"
    }
   ],
   "source": [
    "# Variation in 'Target' class\n",
    "print \"Variation in Target Class:\"\n",
    "values, counts = np.unique(y, return_counts=True)\n",
    "class0 = counts[0]\n",
    "class1 = counts[1]\n",
    "total_instances = class0 + class1\n",
    "\n",
    "print \"Instances of class {:.0f}: {}\".format(values[0],class0)\n",
    "print \"Instances of class {:.0f}: {}\".format(values[1],class1)\n",
    "print \"\"\n",
    "# Percentage of class representation\n",
    "percentage_class0 = 1.0*class0/total_instances*100\n",
    "percentage_class1 = 1.0*class1/total_instances*100\n",
    "\n",
    "print \"Percentage of class 0: {:.2f}%\".format(percentage_class0)\n",
    "print \"Percentage of class 1: {:.2f}%\".format(percentage_class1)\n",
    "\n",
    "labels = 'Genuine', 'Fraud'\n",
    "sizes = [percentage_class0, percentage_class1]\n",
    "explode = (0, 0.1)\n",
    "\n",
    "fig1, ax1 = plt.subplots()\n",
    "ax1.pie(sizes, explode=explode, labels=labels, autopct='%1.1f%%',\n",
    "        shadow=False, startangle=180)\n",
    "ax1.axis('equal')  # Equal aspect ratio ensures that pie is drawn as a circle.\n",
    "plt.title('Variation in Target Class')\n",
    "plt.show()\n",
    "fig1.savefig('Class_Representation.png')"
   ]
  },
  {
   "cell_type": "code",
   "execution_count": 11,
   "metadata": {},
   "outputs": [
    {
     "name": "stdout",
     "output_type": "stream",
     "text": [
      "[[-1.99658302 -0.69424232 -0.04407492 ...,  0.33089162 -0.06378115\n",
      "   0.24496426]\n",
      " [-1.99658302  0.60849633  0.16117592 ..., -0.02225568  0.04460752\n",
      "  -0.34247454]\n",
      " [-1.99656197 -0.69350046 -0.81157783 ..., -0.13713686 -0.18102083\n",
      "   1.16068593]\n",
      " ..., \n",
      " [ 1.6419735   0.98002374 -0.18243372 ...,  0.01103672 -0.0804672\n",
      "  -0.0818393 ]\n",
      " [ 1.6419735  -0.12275539  0.32125034 ...,  0.26960398  0.31668678\n",
      "  -0.31324853]\n",
      " [ 1.64205773 -0.27233093 -0.11489898 ..., -0.00598394  0.04134999\n",
      "   0.51435531]]\n"
     ]
    }
   ],
   "source": [
    "# Scaling\n",
    "scaler = preprocessing.StandardScaler()\n",
    "X_scaled = scaler.fit_transform(X)\n",
    "X_scaled = np.array(X_scaled)\n",
    "print X_scaled"
   ]
  },
  {
   "cell_type": "code",
   "execution_count": 61,
   "metadata": {},
   "outputs": [
    {
     "name": "stdout",
     "output_type": "stream",
     "text": [
      "(array([ 0.,  1.]), array([255889,    437]))\n",
      "(array([ 0.,  1.]), array([28426,    55]))\n"
     ]
    }
   ],
   "source": [
    "X_train, X_test, y_train, y_test = train_test_split(X_scaled, y, test_size = 0.1, random_state = 0)\n",
    "\n",
    "print np.unique(y_train, return_counts=True)\n",
    "print np.unique(y_test, return_counts=True)\n"
   ]
  },
  {
   "cell_type": "code",
   "execution_count": 74,
   "metadata": {},
   "outputs": [
    {
     "name": "stderr",
     "output_type": "stream",
     "text": [
      "/Users/Edwin/Desktop/env1/tensor/lib/python2.7/site-packages/sklearn/utils/deprecation.py:77: DeprecationWarning: Function _ratio_float is deprecated; Use a float for 'ratio' is deprecated from version 0.2. The support will be removed in 0.4. Use a dict, str, or a callable instead.\n",
      "  warnings.warn(msg, category=DeprecationWarning)\n"
     ]
    }
   ],
   "source": [
    "# Undersampling using SMOTE\n",
    "from imblearn.under_sampling import RandomUnderSampler\n",
    "rus = RandomUnderSampler(random_state=0, ratio = 0.1)\n",
    "X_sm, y_sm = rus.fit_sample(X_train, y_train)"
   ]
  },
  {
   "cell_type": "code",
   "execution_count": 76,
   "metadata": {},
   "outputs": [],
   "source": [
    "# Oversampling using SMOTE\n",
    "from imblearn.over_sampling import SMOTE\n",
    "rus = SMOTE(random_state=0)\n",
    "X_sm, y_sm = rus.fit_sample(X_sm, y_sm)"
   ]
  },
  {
   "cell_type": "code",
   "execution_count": 100,
   "metadata": {},
   "outputs": [
    {
     "name": "stdout",
     "output_type": "stream",
     "text": [
      "Instances of class 0: 4370\n",
      "Instances of class 1: 4370\n",
      "\n",
      "Percentage of class 0: 50.00%\n",
      "Percentage of class 1: 50.00%\n"
     ]
    },
    {
     "data": {
      "image/png": "[encoded data removed]",
      "text/plain": [
       "<matplotlib.figure.Figure at 0x113e82290>"
      ]
     },
     "metadata": {},
     "output_type": "display_data"
    }
   ],
   "source": [
    "# After using SMOTE\n",
    "values, counts = np.unique(y_sm, return_counts=True)\n",
    "\n",
    "print \"Instances of class {:.0f}: {}\".format(values[0],counts[0])\n",
    "print \"Instances of class {:.0f}: {}\".format(values[1],counts[1])\n",
    "print \"\"\n",
    "# Percentage of class representation\n",
    "percentage_class0 = 1.0*counts[0]/(counts[0] + counts[1])*100\n",
    "percentage_class1 = 1.0*counts[1]/(counts[0] + counts[1])*100\n",
    "\n",
    "print \"Percentage of class 0: {:.2f}%\".format(percentage_class0)\n",
    "print \"Percentage of class 1: {:.2f}%\".format(percentage_class1)\n",
    "\n",
    "labels = 'Genuine', 'Fraud'\n",
    "sizes = [percentage_class0, percentage_class1]\n",
    "explode = (0, 0.1)\n",
    "\n",
    "\n",
    "def make_autopct(values):\n",
    "    def my_autopct(pct):\n",
    "        total = sum(values)\n",
    "        val = int(round(pct*total/100.0))\n",
    "        return '{p:.2f}%  ({v:d})'.format(p=pct,v=val)\n",
    "    return my_autopct\n",
    "\n",
    "\n",
    "fig1, ax1 = plt.subplots()\n",
    "ax1.pie(sizes, explode=explode, labels=labels, autopct=make_autopct(counts),\n",
    "        shadow=False, startangle=90)\n",
    "ax1.axis('equal')  # Equal aspect ratio ensures that pie is drawn as a circle.\n",
    "plt.title('Variation in Target Class')\n",
    "plt.show()\n",
    "fig1.savefig('After_Smote_Class_Representation.png')"
   ]
  },
  {
   "cell_type": "markdown",
   "metadata": {},
   "source": [
    "# KNN"
   ]
  },
  {
   "cell_type": "code",
   "execution_count": 112,
   "metadata": {},
   "outputs": [
    {
     "name": "stdout",
     "output_type": "stream",
     "text": [
      "K-Nearest Neighbors where n_neighbors = 1\n",
      "[[27844   582]\n",
      " [    4    51]]\n",
      "Recall: 92.73%\n",
      "K-Nearest Neighbors where n_neighbors = 10\n",
      "[[27434   992]\n",
      " [    4    51]]\n",
      "Recall: 92.73%\n",
      "K-Nearest Neighbors where n_neighbors = 30\n",
      "[[27507   919]\n",
      " [    1    54]]\n",
      "Recall: 98.18%\n",
      "K-Nearest Neighbors where n_neighbors = 50\n",
      "[[27656   770]\n",
      " [    2    53]]\n",
      "Recall: 96.36%\n",
      "K-Nearest Neighbors where n_neighbors = 100\n",
      "[[27932   494]\n",
      " [    4    51]]\n",
      "Recall: 92.73%\n",
      "K-Nearest Neighbors where n_neighbors = 150\n",
      "[[28072   354]\n",
      " [    5    50]]\n",
      "Recall: 90.91%\n",
      "K-Nearest Neighbors where n_neighbors = 200\n",
      "[[28110   316]\n",
      " [    6    49]]\n",
      "Recall: 89.09%\n"
     ]
    }
   ],
   "source": [
    "from sklearn.neighbors import KNeighborsClassifier\n",
    "\n",
    "neighbors = [1,10,30,50,100,150,200]\n",
    "knn_recall_score = []\n",
    "for i in neighbors:\n",
    "    knn_classifier = KNeighborsClassifier(n_neighbors = i,\n",
    "                                  metric = 'euclidean')\n",
    "    knn_classifier.fit(X_sm, y_sm)\n",
    "    knn_y_pred = knn_classifier.predict(X_test)\n",
    "\n",
    "    knn_matrix = metrics.confusion_matrix(y_test, knn_y_pred)\n",
    "    print \"K-Nearest Neighbors where n_neighbors = {}\".format(i)\n",
    "    print knn_matrix\n",
    "\n",
    "    false_positive = knn_matrix[1][0]\n",
    "    true_negative = knn_matrix[1][1]\n",
    "    recall = 1 - (1.0*false_positive/(false_positive + true_negative))\n",
    "    print \"Recall: {:.2f}%\".format(recall*100)\n",
    "    knn_recall_score.append(recall)\n",
    "    \n"
   ]
  },
  {
   "cell_type": "code",
   "execution_count": 168,
   "metadata": {},
   "outputs": [
    {
     "data": {
      "image/png": "[encoded data removed]",
      "text/plain": [
       "<matplotlib.figure.Figure at 0x1135afa10>"
      ]
     },
     "metadata": {},
     "output_type": "display_data"
    }
   ],
   "source": [
    "plt.title('KNN: Recall vs Number of Neighbors')\n",
    "plt.ylabel('Recall %')\n",
    "plt.xlabel('Number of Neighbors')\n",
    "plt.plot(neighbors, knn_recall_score)\n",
    "plt.savefig('KNN-performance.png')"
   ]
  },
  {
   "cell_type": "markdown",
   "metadata": {},
   "source": [
    "# SVM"
   ]
  },
  {
   "cell_type": "code",
   "execution_count": 188,
   "metadata": {},
   "outputs": [
    {
     "name": "stdout",
     "output_type": "stream",
     "text": [
      "SVM where C = 0.01\n",
      "[[27893   533]\n",
      " [    2    53]]\n",
      "Accuracy: 98.12%\n",
      "Recall: 96.36%\n",
      "SVM where C = 0.1\n",
      "[[27793   633]\n",
      " [    2    53]]\n",
      "Accuracy: 97.77%\n",
      "Recall: 96.36%\n",
      "SVM where C = 0.2\n",
      "[[27761   665]\n",
      " [    2    53]]\n",
      "Accuracy: 97.66%\n",
      "Recall: 96.36%\n",
      "SVM where C = 0.4\n",
      "[[27753   673]\n",
      " [    1    54]]\n",
      "Accuracy: 97.63%\n",
      "Recall: 98.18%\n",
      "SVM where C = 0.5\n",
      "[[27752   674]\n",
      " [    1    54]]\n",
      "Accuracy: 97.63%\n",
      "Recall: 98.18%\n",
      "SVM where C = 1\n",
      "[[27740   686]\n",
      " [    1    54]]\n",
      "Accuracy: 97.59%\n",
      "Recall: 98.18%\n",
      "SVM where C = 10\n",
      "[[27733   693]\n",
      " [    1    54]]\n",
      "Accuracy: 97.56%\n",
      "Recall: 98.18%\n",
      "SVM where C = 20\n",
      "[[27731   695]\n",
      " [    1    54]]\n",
      "Accuracy: 97.56%\n",
      "Recall: 98.18%\n"
     ]
    }
   ],
   "source": [
    "from sklearn.svm import SVC\n",
    "\n",
    "C = [0.01, 0.1,0.2,0.4,0.5, 1, 10, 20]\n",
    "recall_svm = []\n",
    "overall_accuracy = []\n",
    "for i in C:\n",
    "    classifier = SVC(kernel = 'linear', random_state = 0, C = i)\n",
    "    classifier.fit(X_sm, y_sm)\n",
    "\n",
    "    svm_y_pred = classifier.predict(X_test)\n",
    "    svm_matrix = metrics.confusion_matrix(y_test, svm_y_pred)\n",
    "    print \"SVM where C = {}\".format(i)\n",
    "    print svm_matrix\n",
    "    accuracy = accuracy_score(y_test, svm_y_pred)\n",
    "    print \"Accuracy: {:.2f}%\".format(accuracy*100)\n",
    "    overall_accuracy.append(accuracy)\n",
    "    \n",
    "    false_positive = svm_matrix[1][0]\n",
    "    true_negative = svm_matrix[1][1]\n",
    "    recall = 1 - (1.0*false_positive/(false_positive + true_negative))\n",
    "    print \"Recall: {:.2f}%\".format(recall*100)\n",
    "    recall_svm.append(recall)"
   ]
  },
  {
   "cell_type": "code",
   "execution_count": 190,
   "metadata": {},
   "outputs": [
    {
     "data": {
      "image/png": "[encoded data removed]",
      "text/plain": [
       "<matplotlib.figure.Figure at 0x111f84f10>"
      ]
     },
     "metadata": {},
     "output_type": "display_data"
    }
   ],
   "source": [
    "fig, ax = plt.subplots()\n",
    "ax.plot(C, recall_svm, label='Recall')\n",
    "ax.plot(C,overall_accuracy,'g--', label='Accuracy')\n",
    "ax.set_title('Linear Kernel')\n",
    "ax.set_ylabel('Recall % / Accuracy %')\n",
    "ax.set_xlabel('C')\n",
    "\n",
    "\n",
    "# Now add the legend with some customizations.\n",
    "legend = ax.legend(loc='center right', shadow=True)\n",
    "\n",
    "\n",
    "fig.savefig('SVM-performance.png')"
   ]
  },
  {
   "cell_type": "markdown",
   "metadata": {},
   "source": [
    "# Random Forest"
   ]
  },
  {
   "cell_type": "code",
   "execution_count": 214,
   "metadata": {},
   "outputs": [
    {
     "name": "stdout",
     "output_type": "stream",
     "text": [
      "Number of Trees: 1\n",
      "[[27048  1378]\n",
      " [    5    50]]\n",
      "Accuracy: 95.14%\n",
      "Recall: 90.91%\n",
      "\n",
      "Number of Trees: 2\n",
      "[[28235   191]\n",
      " [    8    47]]\n",
      "Accuracy: 99.30%\n",
      "Recall: 85.45%\n",
      "\n",
      "Number of Trees: 3\n",
      "[[27907   519]\n",
      " [    6    49]]\n",
      "Accuracy: 98.16%\n",
      "Recall: 89.09%\n",
      "\n",
      "Number of Trees: 4\n",
      "[[28271   155]\n",
      " [    6    49]]\n",
      "Accuracy: 99.43%\n",
      "Recall: 89.09%\n",
      "\n",
      "Number of Trees: 5\n",
      "[[28141   285]\n",
      " [    5    50]]\n",
      "Accuracy: 98.98%\n",
      "Recall: 90.91%\n",
      "\n",
      "Number of Trees: 6\n",
      "[[28288   138]\n",
      " [    6    49]]\n",
      "Accuracy: 99.49%\n",
      "Recall: 89.09%\n",
      "\n",
      "Number of Trees: 7\n",
      "[[28197   229]\n",
      " [    5    50]]\n",
      "Accuracy: 99.18%\n",
      "Recall: 90.91%\n",
      "\n",
      "Number of Trees: 8\n",
      "[[28298   128]\n",
      " [    8    47]]\n",
      "Accuracy: 99.52%\n",
      "Recall: 85.45%\n",
      "\n",
      "Number of Trees: 9\n",
      "[[28243   183]\n",
      " [    7    48]]\n",
      "Accuracy: 99.33%\n",
      "Recall: 87.27%\n",
      "\n",
      "Number of Trees: 10\n",
      "[[28304   122]\n",
      " [    7    48]]\n",
      "Accuracy: 99.55%\n",
      "Recall: 87.27%\n",
      "\n",
      "Number of Trees: 100\n",
      "[[28350    76]\n",
      " [    7    48]]\n",
      "Accuracy: 99.71%\n",
      "Recall: 87.27%\n",
      "\n"
     ]
    }
   ],
   "source": [
    "from sklearn.ensemble import RandomForestClassifier\n",
    "from sklearn.model_selection import cross_val_score\n",
    "from sklearn.metrics import precision_recall_curve\n",
    "\n",
    "num_trees = [1,2,3,4,5,6,7,8,9,10,100]\n",
    "rf_recall = []\n",
    "rf_overall_accuracy = []\n",
    "for i in num_trees:\n",
    "    rf_classifier = RandomForestClassifier(n_estimators = i)\n",
    "    rf_classifier.fit(X_sm, y_sm)\n",
    "    #rf_score = cross_val_score(rf_classifier, X_test, y_test, cv=5)\n",
    "    #print \"Cross Validation Score for n_estimators = {}: {:.2f}%\".format(i,rf_score.mean()*100)\n",
    "    print \"Number of Trees: {}\".format(i)\n",
    "    random_forest_prediction = rf_classifier.predict(X_test)\n",
    "    random_forest_matrix = metrics.confusion_matrix(y_test, random_forest_prediction)\n",
    "    print random_forest_matrix\n",
    "\n",
    "    accuracy = accuracy_score(y_test, random_forest_prediction)\n",
    "    print \"Accuracy: {:.2f}%\".format(accuracy*100)\n",
    "    rf_overall_accuracy.append(accuracy*100)\n",
    "    \n",
    "    false_positive = random_forest_matrix[1][0]\n",
    "    true_negative = random_forest_matrix[1][1]\n",
    "    recall = 1 - (1.0*false_positive/(false_positive + true_negative))\n",
    "    print \"Recall: {:.2f}%\\n\".format(recall*100)\n",
    "    rf_recall.append(recall*100)\n",
    "    \n"
   ]
  },
  {
   "cell_type": "code",
   "execution_count": 215,
   "metadata": {},
   "outputs": [
    {
     "data": {
      "image/png": "[encoded data removed]",
      "text/plain": [
       "<matplotlib.figure.Figure at 0x113c2ac50>"
      ]
     },
     "metadata": {},
     "output_type": "display_data"
    }
   ],
   "source": [
    "fig, ax = plt.subplots()\n",
    "ax.plot(num_trees, rf_recall, label='Recall')\n",
    "ax.plot(num_trees,rf_overall_accuracy,'g--', label='Accuracy')\n",
    "ax.set_title('Random Forest')\n",
    "ax.set_ylabel('Recall % / Accuracy %')\n",
    "ax.set_xlabel('Num Trees')\n",
    "\n",
    "\n",
    "# Now add the legend with some customizations.\n",
    "legend = ax.legend(loc='center right', shadow=True)\n",
    "\n",
    "\n",
    "fig.savefig('rf-performance.png')"
   ]
  }
 ],
 "metadata": {
  "kernelspec": {
   "display_name": "Python 2",
   "language": "python",
   "name": "python2"
  },
  "language_info": {
   "codemirror_mode": {
    "name": "ipython",
    "version": 2
   },
   "file_extension": ".py",
   "mimetype": "text/x-python",
   "name": "python",
   "nbconvert_exporter": "python",
   "pygments_lexer": "ipython2",
   "version": "2.7.11"
  }
 },
 "nbformat": 4,
 "nbformat_minor": 2
}
